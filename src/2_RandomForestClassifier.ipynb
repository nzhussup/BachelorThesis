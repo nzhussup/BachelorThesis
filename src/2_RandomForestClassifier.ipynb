{
 "cells": [
  {
   "cell_type": "code",
   "execution_count": 1,
   "metadata": {},
   "outputs": [],
   "source": [
    "import pandas as pd\n",
    "import numpy as np\n",
    "from scipy.stats import randint\n",
    "from sklearn.ensemble import RandomForestClassifier\n",
    "from sklearn.metrics import classification_report\n",
    "from sklearn.model_selection import train_test_split, RandomizedSearchCV\n",
    "from sklearn.feature_extraction.text import TfidfVectorizer\n",
    "from time_counter import time_counter"
   ]
  },
  {
   "cell_type": "code",
   "execution_count": 2,
   "metadata": {},
   "outputs": [],
   "source": [
    "bbc_data = pd.read_csv(\"../data/clean_bbc_classification.csv\")\n",
    "sarc_data = pd.read_csv(\"../data/clean_sarcasm_classification.csv\")"
   ]
  },
  {
   "cell_type": "code",
   "execution_count": 3,
   "metadata": {},
   "outputs": [],
   "source": [
    "# Fine tuning params\n",
    "\n",
    "num_iterations = 5\n",
    "num_cv = 3"
   ]
  },
  {
   "cell_type": "markdown",
   "metadata": {},
   "source": [
    "### RFC on BBC News Classification\n",
    "#### Simple RFC"
   ]
  },
  {
   "cell_type": "code",
   "execution_count": 4,
   "metadata": {},
   "outputs": [],
   "source": [
    "X = bbc_data['text']\n",
    "y = bbc_data['label_ids']\n",
    "\n",
    "X_train, X_test, y_train, y_test = train_test_split(X, y, test_size=.2, random_state=123)\n",
    "\n",
    "vectorizer = TfidfVectorizer()\n",
    "X_train = vectorizer.fit_transform(X_train)\n",
    "X_test = vectorizer.transform(X_test)"
   ]
  },
  {
   "cell_type": "code",
   "execution_count": 5,
   "metadata": {},
   "outputs": [
    {
     "data": {
      "text/html": [
       "<div>\n",
       "<style scoped>\n",
       "    .dataframe tbody tr th:only-of-type {\n",
       "        vertical-align: middle;\n",
       "    }\n",
       "\n",
       "    .dataframe tbody tr th {\n",
       "        vertical-align: top;\n",
       "    }\n",
       "\n",
       "    .dataframe thead th {\n",
       "        text-align: right;\n",
       "    }\n",
       "</style>\n",
       "<table border=\"1\" class=\"dataframe\">\n",
       "  <thead>\n",
       "    <tr style=\"text-align: right;\">\n",
       "      <th></th>\n",
       "      <th>labels</th>\n",
       "      <th>label_ids</th>\n",
       "    </tr>\n",
       "  </thead>\n",
       "  <tbody>\n",
       "    <tr>\n",
       "      <th>0</th>\n",
       "      <td>entertainment</td>\n",
       "      <td>0</td>\n",
       "    </tr>\n",
       "    <tr>\n",
       "      <th>386</th>\n",
       "      <td>business</td>\n",
       "      <td>1</td>\n",
       "    </tr>\n",
       "    <tr>\n",
       "      <th>896</th>\n",
       "      <td>sport</td>\n",
       "      <td>2</td>\n",
       "    </tr>\n",
       "    <tr>\n",
       "      <th>1407</th>\n",
       "      <td>politics</td>\n",
       "      <td>3</td>\n",
       "    </tr>\n",
       "    <tr>\n",
       "      <th>1824</th>\n",
       "      <td>tech</td>\n",
       "      <td>4</td>\n",
       "    </tr>\n",
       "  </tbody>\n",
       "</table>\n",
       "</div>"
      ],
      "text/plain": [
       "             labels  label_ids\n",
       "0     entertainment          0\n",
       "386        business          1\n",
       "896           sport          2\n",
       "1407       politics          3\n",
       "1824           tech          4"
      ]
     },
     "execution_count": 5,
     "metadata": {},
     "output_type": "execute_result"
    }
   ],
   "source": [
    "bbc_data[['labels', 'label_ids']].drop_duplicates()"
   ]
  },
  {
   "cell_type": "code",
   "execution_count": 6,
   "metadata": {},
   "outputs": [
    {
     "name": "stdout",
     "output_type": "stream",
     "text": [
      "Simple Random Forest Classifier\n",
      "              precision    recall  f1-score   support\n",
      "\n",
      "           0       1.00      0.94      0.97        65\n",
      "           1       0.94      0.97      0.96       103\n",
      "           2       0.97      1.00      0.98       114\n",
      "           3       0.98      0.97      0.97        88\n",
      "           4       0.99      0.96      0.97        75\n",
      "\n",
      "    accuracy                           0.97       445\n",
      "   macro avg       0.97      0.97      0.97       445\n",
      "weighted avg       0.97      0.97      0.97       445\n",
      "\n",
      "Runtime: 0.42 seconds\n"
     ]
    }
   ],
   "source": [
    "@time_counter\n",
    "def model():\n",
    "    rfc = RandomForestClassifier(n_jobs=-1)\n",
    "    rfc.fit(X_train, y_train)\n",
    "    preds = rfc.predict(X_test)\n",
    "    print(\"Simple Random Forest Classifier\")\n",
    "    print(classification_report(y_test, preds))\n",
    "    return preds\n",
    "\n",
    "preds, runtime_rfc_simple = model()\n",
    "print(f\"Runtime: {runtime_rfc_simple} seconds\")\n",
    "performance_rfc_simple = classification_report(y_test, preds, output_dict=True)"
   ]
  },
  {
   "cell_type": "code",
   "execution_count": 7,
   "metadata": {},
   "outputs": [
    {
     "data": {
      "text/html": [
       "<div>\n",
       "<style scoped>\n",
       "    .dataframe tbody tr th:only-of-type {\n",
       "        vertical-align: middle;\n",
       "    }\n",
       "\n",
       "    .dataframe tbody tr th {\n",
       "        vertical-align: top;\n",
       "    }\n",
       "\n",
       "    .dataframe thead th {\n",
       "        text-align: right;\n",
       "    }\n",
       "</style>\n",
       "<table border=\"1\" class=\"dataframe\">\n",
       "  <thead>\n",
       "    <tr style=\"text-align: right;\">\n",
       "      <th></th>\n",
       "      <th>Feature</th>\n",
       "      <th>Importance</th>\n",
       "    </tr>\n",
       "  </thead>\n",
       "  <tbody>\n",
       "    <tr>\n",
       "      <th>10247</th>\n",
       "      <td>film</td>\n",
       "      <td>0.010431</td>\n",
       "    </tr>\n",
       "    <tr>\n",
       "      <th>25991</th>\n",
       "      <td>user</td>\n",
       "      <td>0.009512</td>\n",
       "    </tr>\n",
       "    <tr>\n",
       "      <th>18468</th>\n",
       "      <td>party</td>\n",
       "      <td>0.007876</td>\n",
       "    </tr>\n",
       "    <tr>\n",
       "      <th>11017</th>\n",
       "      <td>game</td>\n",
       "      <td>0.007323</td>\n",
       "    </tr>\n",
       "    <tr>\n",
       "      <th>24443</th>\n",
       "      <td>technology</td>\n",
       "      <td>0.007268</td>\n",
       "    </tr>\n",
       "    <tr>\n",
       "      <th>...</th>\n",
       "      <td>...</td>\n",
       "      <td>...</td>\n",
       "    </tr>\n",
       "    <tr>\n",
       "      <th>11025</th>\n",
       "      <td>gameplan</td>\n",
       "      <td>0.000000</td>\n",
       "    </tr>\n",
       "    <tr>\n",
       "      <th>11024</th>\n",
       "      <td>gamemaking</td>\n",
       "      <td>0.000000</td>\n",
       "    </tr>\n",
       "    <tr>\n",
       "      <th>11023</th>\n",
       "      <td>gamely</td>\n",
       "      <td>0.000000</td>\n",
       "    </tr>\n",
       "    <tr>\n",
       "      <th>11021</th>\n",
       "      <td>gamebreakers</td>\n",
       "      <td>0.000000</td>\n",
       "    </tr>\n",
       "    <tr>\n",
       "      <th>27954</th>\n",
       "      <td>zvyagintsev</td>\n",
       "      <td>0.000000</td>\n",
       "    </tr>\n",
       "  </tbody>\n",
       "</table>\n",
       "<p>27955 rows × 2 columns</p>\n",
       "</div>"
      ],
      "text/plain": [
       "            Feature  Importance\n",
       "10247          film    0.010431\n",
       "25991          user    0.009512\n",
       "18468         party    0.007876\n",
       "11017          game    0.007323\n",
       "24443    technology    0.007268\n",
       "...             ...         ...\n",
       "11025      gameplan    0.000000\n",
       "11024    gamemaking    0.000000\n",
       "11023        gamely    0.000000\n",
       "11021  gamebreakers    0.000000\n",
       "27954   zvyagintsev    0.000000\n",
       "\n",
       "[27955 rows x 2 columns]"
      ]
     },
     "execution_count": 7,
     "metadata": {},
     "output_type": "execute_result"
    }
   ],
   "source": [
    "rfc = RandomForestClassifier(n_jobs=-1)\n",
    "rfc.fit(X_train, y_train)\n",
    "importances_df = pd.DataFrame({'Feature': vectorizer.get_feature_names_out(), 'Importance': rfc.feature_importances_}).sort_values(by='Importance', ascending=False)\n",
    "importances_df"
   ]
  },
  {
   "cell_type": "code",
   "execution_count": 8,
   "metadata": {},
   "outputs": [
    {
     "data": {
      "image/png": "[encoded data removed]",
      "text/plain": [
       "<Figure size 1000x800 with 1 Axes>"
      ]
     },
     "metadata": {},
     "output_type": "display_data"
    }
   ],
   "source": [
    "import matplotlib.pyplot as plt\n",
    "\n",
    "plt.figure(figsize=(10, 8))  # Adjust the size to fit your needs\n",
    "plt.barh(importances_df['Feature'][:20], importances_df['Importance'][:20])  # Top 20 features\n",
    "plt.xlabel('Importance')\n",
    "plt.ylabel('Features')\n",
    "plt.title('Top 20 Important Features from Random Forest (BBC Data)')\n",
    "plt.gca().invert_yaxis()"
   ]
  },
  {
   "cell_type": "markdown",
   "metadata": {},
   "source": [
    "#### Fine-tuned RFC"
   ]
  },
  {
   "cell_type": "code",
   "execution_count": 9,
   "metadata": {},
   "outputs": [
    {
     "name": "stdout",
     "output_type": "stream",
     "text": [
      "Best parameters: {'criterion': 'entropy', 'max_depth': None, 'min_samples_leaf': 1, 'min_samples_split': 7, 'n_estimators': 100}\n",
      "Best score: 0.955052681584441\n",
      "Fine-tuned Random Forest Classifier\n",
      "              precision    recall  f1-score   support\n",
      "\n",
      "           0       0.97      0.92      0.94        65\n",
      "           1       0.93      0.97      0.95       103\n",
      "           2       0.95      1.00      0.97       114\n",
      "           3       0.99      0.94      0.97        88\n",
      "           4       0.99      0.93      0.96        75\n",
      "\n",
      "    accuracy                           0.96       445\n",
      "   macro avg       0.96      0.95      0.96       445\n",
      "weighted avg       0.96      0.96      0.96       445\n",
      "\n",
      "Runtime: 8.9 seconds\n"
     ]
    }
   ],
   "source": [
    "@time_counter\n",
    "def model():\n",
    "    rfc = RandomForestClassifier(n_jobs=-1)\n",
    "    param_dist = {\n",
    "        'n_estimators': [100, 200], \n",
    "        'max_depth': [None, 10, 20],\n",
    "        'min_samples_split': randint(2, 11),\n",
    "        'min_samples_leaf': randint(1, 11),\n",
    "        'criterion': ['gini', 'entropy']\n",
    "    }\n",
    "\n",
    "    rnd_cv = RandomizedSearchCV(rfc, param_distributions=param_dist,\n",
    "                                n_iter=num_iterations, cv=num_cv, scoring='accuracy', random_state=42, n_jobs=-1)\n",
    "    rnd_cv.fit(X_train, y_train)\n",
    "    print(\"Best parameters:\", rnd_cv.best_params_)\n",
    "    print(\"Best score:\", rnd_cv.best_score_)\n",
    "    rfc = RandomForestClassifier(**rnd_cv.best_params_, n_jobs=-1)\n",
    "    rfc.fit(X_train, y_train)\n",
    "    preds = rfc.predict(X_test)\n",
    "    print(\"Fine-tuned Random Forest Classifier\")\n",
    "    print(classification_report(y_test, preds))\n",
    "    return preds\n",
    "\n",
    "preds, runtime_rfc_tuned = model()\n",
    "print(f\"Runtime: {runtime_rfc_tuned} seconds\")\n",
    "performance_rfc_tuned = classification_report(y_test, preds, output_dict=True)\n"
   ]
  },
  {
   "cell_type": "code",
   "execution_count": 10,
   "metadata": {},
   "outputs": [
    {
     "data": {
      "text/html": [
       "<div>\n",
       "<style scoped>\n",
       "    .dataframe tbody tr th:only-of-type {\n",
       "        vertical-align: middle;\n",
       "    }\n",
       "\n",
       "    .dataframe tbody tr th {\n",
       "        vertical-align: top;\n",
       "    }\n",
       "\n",
       "    .dataframe thead th {\n",
       "        text-align: right;\n",
       "    }\n",
       "</style>\n",
       "<table border=\"1\" class=\"dataframe\">\n",
       "  <thead>\n",
       "    <tr style=\"text-align: right;\">\n",
       "      <th></th>\n",
       "      <th>Model</th>\n",
       "      <th>Runtime</th>\n",
       "      <th>Accuracy</th>\n",
       "      <th>F1</th>\n",
       "      <th>data</th>\n",
       "    </tr>\n",
       "  </thead>\n",
       "  <tbody>\n",
       "    <tr>\n",
       "      <th>0</th>\n",
       "      <td>Decision Tree</td>\n",
       "      <td>0.73</td>\n",
       "      <td>0.849438</td>\n",
       "      <td>0.849514</td>\n",
       "      <td>bbc news</td>\n",
       "    </tr>\n",
       "    <tr>\n",
       "      <th>1</th>\n",
       "      <td>Decision Tree fine-tuned</td>\n",
       "      <td>8.08</td>\n",
       "      <td>0.617978</td>\n",
       "      <td>0.632672</td>\n",
       "      <td>bbc news</td>\n",
       "    </tr>\n",
       "    <tr>\n",
       "      <th>2</th>\n",
       "      <td>Decision Tree</td>\n",
       "      <td>14.38</td>\n",
       "      <td>0.730084</td>\n",
       "      <td>0.729078</td>\n",
       "      <td>sarcasm detection</td>\n",
       "    </tr>\n",
       "    <tr>\n",
       "      <th>3</th>\n",
       "      <td>Decision Tree fine-tuned</td>\n",
       "      <td>8.67</td>\n",
       "      <td>0.615828</td>\n",
       "      <td>0.567973</td>\n",
       "      <td>sarcasm detection</td>\n",
       "    </tr>\n",
       "    <tr>\n",
       "      <th>4</th>\n",
       "      <td>Random Forest</td>\n",
       "      <td>0.42</td>\n",
       "      <td>0.970787</td>\n",
       "      <td>0.970774</td>\n",
       "      <td>bbc news</td>\n",
       "    </tr>\n",
       "    <tr>\n",
       "      <th>5</th>\n",
       "      <td>Random Forest fine-tuned</td>\n",
       "      <td>8.90</td>\n",
       "      <td>0.959551</td>\n",
       "      <td>0.959489</td>\n",
       "      <td>bbc news</td>\n",
       "    </tr>\n",
       "  </tbody>\n",
       "</table>\n",
       "</div>"
      ],
      "text/plain": [
       "                      Model  Runtime  Accuracy        F1               data\n",
       "0             Decision Tree     0.73  0.849438  0.849514           bbc news\n",
       "1  Decision Tree fine-tuned     8.08  0.617978  0.632672           bbc news\n",
       "2             Decision Tree    14.38  0.730084  0.729078  sarcasm detection\n",
       "3  Decision Tree fine-tuned     8.67  0.615828  0.567973  sarcasm detection\n",
       "4             Random Forest     0.42  0.970787  0.970774           bbc news\n",
       "5  Random Forest fine-tuned     8.90  0.959551  0.959489           bbc news"
      ]
     },
     "execution_count": 10,
     "metadata": {},
     "output_type": "execute_result"
    }
   ],
   "source": [
    "data = pd.read_csv(\"../data/evaluation_data.csv\")\n",
    "data = pd.concat([data,\n",
    "                  pd.DataFrame({\n",
    "                      'Model': ['Random Forest', 'Random Forest fine-tuned'],\n",
    "                      'Runtime': [runtime_rfc_simple, runtime_rfc_tuned],\n",
    "                      'Accuracy': [performance_rfc_simple['accuracy'], performance_rfc_tuned['accuracy']],\n",
    "                      'F1': [performance_rfc_simple['weighted avg']['f1-score'], performance_rfc_tuned['weighted avg']['f1-score']],\n",
    "                      'data': ['bbc news', 'bbc news']\n",
    "                  })], ignore_index=True)\n",
    "data"
   ]
  },
  {
   "cell_type": "markdown",
   "metadata": {},
   "source": [
    "### RFC on Sarcasm Detection\n",
    "#### Simple RFC"
   ]
  },
  {
   "cell_type": "code",
   "execution_count": 11,
   "metadata": {},
   "outputs": [],
   "source": [
    "sarc_data = sarc_data.dropna()\n",
    "X = sarc_data['text']\n",
    "y = sarc_data['is_sarcastic']\n",
    "\n",
    "X_train, X_test, y_train, y_test = train_test_split(X, y, test_size=.2, random_state=123)\n",
    "\n",
    "vectorizer = TfidfVectorizer()\n",
    "X_train = vectorizer.fit_transform(X_train)\n",
    "X_test = vectorizer.transform(X_test)"
   ]
  },
  {
   "cell_type": "code",
   "execution_count": 12,
   "metadata": {},
   "outputs": [
    {
     "name": "stdout",
     "output_type": "stream",
     "text": [
      "Simple Random Forest Classifier\n",
      "              precision    recall  f1-score   support\n",
      "\n",
      "           0       0.74      0.85      0.79      2978\n",
      "           1       0.81      0.67      0.74      2746\n",
      "\n",
      "    accuracy                           0.77      5724\n",
      "   macro avg       0.77      0.76      0.76      5724\n",
      "weighted avg       0.77      0.77      0.76      5724\n",
      "\n",
      "Runtime: 10.27 seconds\n"
     ]
    }
   ],
   "source": [
    "@time_counter\n",
    "def model():\n",
    "    rfc = RandomForestClassifier(n_jobs=-1)\n",
    "    rfc.fit(X_train, y_train)\n",
    "    preds = rfc.predict(X_test)\n",
    "    print(\"Simple Random Forest Classifier\")\n",
    "    print(classification_report(y_test, preds))\n",
    "    return preds\n",
    "\n",
    "preds, runtime_rfc_simple = model()\n",
    "print(f\"Runtime: {runtime_rfc_simple} seconds\")\n",
    "performance_rfc_simple = classification_report(y_test, preds, output_dict=True)"
   ]
  },
  {
   "cell_type": "markdown",
   "metadata": {},
   "source": [
    "#### Fine-tuned RFC"
   ]
  },
  {
   "cell_type": "code",
   "execution_count": 13,
   "metadata": {},
   "outputs": [
    {
     "name": "stdout",
     "output_type": "stream",
     "text": [
      "Best parameters: {'criterion': 'entropy', 'max_depth': None, 'min_samples_leaf': 1, 'min_samples_split': 7, 'n_estimators': 100}\n",
      "Best score: 0.7672753650402232\n",
      "Fine-tuned Random Forest Classifier\n",
      "              precision    recall  f1-score   support\n",
      "\n",
      "           0       0.76      0.82      0.79      2978\n",
      "           1       0.79      0.71      0.75      2746\n",
      "\n",
      "    accuracy                           0.77      5724\n",
      "   macro avg       0.77      0.77      0.77      5724\n",
      "weighted avg       0.77      0.77      0.77      5724\n",
      "\n",
      "Runtime: 82.99 seconds\n"
     ]
    }
   ],
   "source": [
    "@time_counter\n",
    "def model():\n",
    "    rfc = RandomForestClassifier(n_jobs=-1)\n",
    "    param_dist = {\n",
    "        'n_estimators': [100, 200], \n",
    "        'max_depth': [None, 10, 20],\n",
    "        'min_samples_split': randint(2, 11),\n",
    "        'min_samples_leaf': randint(1, 11),\n",
    "        'criterion': ['gini', 'entropy']\n",
    "    }\n",
    "\n",
    "    rnd_cv = RandomizedSearchCV(rfc, param_distributions=param_dist,\n",
    "                                n_iter=num_iterations, cv=num_cv, scoring='accuracy', random_state=42, n_jobs=-1)\n",
    "    rnd_cv.fit(X_train, y_train)\n",
    "    print(\"Best parameters:\", rnd_cv.best_params_)\n",
    "    print(\"Best score:\", rnd_cv.best_score_)\n",
    "    rfc = RandomForestClassifier(**rnd_cv.best_params_, n_jobs=-1)\n",
    "    rfc.fit(X_train, y_train)\n",
    "    preds = rfc.predict(X_test)\n",
    "    print(\"Fine-tuned Random Forest Classifier\")\n",
    "    print(classification_report(y_test, preds))\n",
    "    return preds\n",
    "\n",
    "preds, runtime_rfc_tuned = model()\n",
    "print(f\"Runtime: {runtime_rfc_tuned} seconds\")\n",
    "performance_rfc_tuned = classification_report(y_test, preds, output_dict=True)\n"
   ]
  },
  {
   "cell_type": "code",
   "execution_count": 14,
   "metadata": {},
   "outputs": [
    {
     "data": {
      "image/png": "[encoded data removed]",
      "text/plain": [
       "<Figure size 1000x800 with 1 Axes>"
      ]
     },
     "metadata": {},
     "output_type": "display_data"
    }
   ],
   "source": [
    "rfc = RandomForestClassifier(n_jobs=-1)\n",
    "rfc.fit(X_train, y_train)\n",
    "\n",
    "importances_df = pd.DataFrame({'Feature': vectorizer.get_feature_names_out(), 'Importance': rfc.feature_importances_}).sort_values(by='Importance', ascending=False)\n",
    "plt.figure(figsize=(10, 8)) \n",
    "plt.barh(importances_df['Feature'][:20], importances_df['Importance'][:20])  # Top 20 features\n",
    "plt.xlabel('Importance')\n",
    "plt.ylabel('Features')\n",
    "plt.title('Top 20 Important Features from Random Forest (Sarcasm Detection Data)')\n",
    "plt.gca().invert_yaxis()"
   ]
  },
  {
   "cell_type": "code",
   "execution_count": 15,
   "metadata": {},
   "outputs": [
    {
     "data": {
      "text/html": [
       "<div>\n",
       "<style scoped>\n",
       "    .dataframe tbody tr th:only-of-type {\n",
       "        vertical-align: middle;\n",
       "    }\n",
       "\n",
       "    .dataframe tbody tr th {\n",
       "        vertical-align: top;\n",
       "    }\n",
       "\n",
       "    .dataframe thead th {\n",
       "        text-align: right;\n",
       "    }\n",
       "</style>\n",
       "<table border=\"1\" class=\"dataframe\">\n",
       "  <thead>\n",
       "    <tr style=\"text-align: right;\">\n",
       "      <th></th>\n",
       "      <th>Model</th>\n",
       "      <th>Runtime</th>\n",
       "      <th>Accuracy</th>\n",
       "      <th>F1</th>\n",
       "      <th>data</th>\n",
       "    </tr>\n",
       "  </thead>\n",
       "  <tbody>\n",
       "    <tr>\n",
       "      <th>0</th>\n",
       "      <td>Decision Tree</td>\n",
       "      <td>0.73</td>\n",
       "      <td>0.849438</td>\n",
       "      <td>0.849514</td>\n",
       "      <td>bbc news</td>\n",
       "    </tr>\n",
       "    <tr>\n",
       "      <th>1</th>\n",
       "      <td>Decision Tree fine-tuned</td>\n",
       "      <td>8.08</td>\n",
       "      <td>0.617978</td>\n",
       "      <td>0.632672</td>\n",
       "      <td>bbc news</td>\n",
       "    </tr>\n",
       "    <tr>\n",
       "      <th>2</th>\n",
       "      <td>Decision Tree</td>\n",
       "      <td>14.38</td>\n",
       "      <td>0.730084</td>\n",
       "      <td>0.729078</td>\n",
       "      <td>sarcasm detection</td>\n",
       "    </tr>\n",
       "    <tr>\n",
       "      <th>3</th>\n",
       "      <td>Decision Tree fine-tuned</td>\n",
       "      <td>8.67</td>\n",
       "      <td>0.615828</td>\n",
       "      <td>0.567973</td>\n",
       "      <td>sarcasm detection</td>\n",
       "    </tr>\n",
       "    <tr>\n",
       "      <th>4</th>\n",
       "      <td>Random Forest</td>\n",
       "      <td>0.42</td>\n",
       "      <td>0.970787</td>\n",
       "      <td>0.970774</td>\n",
       "      <td>bbc news</td>\n",
       "    </tr>\n",
       "    <tr>\n",
       "      <th>5</th>\n",
       "      <td>Random Forest fine-tuned</td>\n",
       "      <td>8.90</td>\n",
       "      <td>0.959551</td>\n",
       "      <td>0.959489</td>\n",
       "      <td>bbc news</td>\n",
       "    </tr>\n",
       "    <tr>\n",
       "      <th>6</th>\n",
       "      <td>Random Forest</td>\n",
       "      <td>10.27</td>\n",
       "      <td>0.767121</td>\n",
       "      <td>0.764883</td>\n",
       "      <td>sarcasm detection</td>\n",
       "    </tr>\n",
       "    <tr>\n",
       "      <th>7</th>\n",
       "      <td>Random Forest fine-tuned</td>\n",
       "      <td>82.99</td>\n",
       "      <td>0.771139</td>\n",
       "      <td>0.770207</td>\n",
       "      <td>sarcasm detection</td>\n",
       "    </tr>\n",
       "  </tbody>\n",
       "</table>\n",
       "</div>"
      ],
      "text/plain": [
       "                      Model  Runtime  Accuracy        F1               data\n",
       "0             Decision Tree     0.73  0.849438  0.849514           bbc news\n",
       "1  Decision Tree fine-tuned     8.08  0.617978  0.632672           bbc news\n",
       "2             Decision Tree    14.38  0.730084  0.729078  sarcasm detection\n",
       "3  Decision Tree fine-tuned     8.67  0.615828  0.567973  sarcasm detection\n",
       "4             Random Forest     0.42  0.970787  0.970774           bbc news\n",
       "5  Random Forest fine-tuned     8.90  0.959551  0.959489           bbc news\n",
       "6             Random Forest    10.27  0.767121  0.764883  sarcasm detection\n",
       "7  Random Forest fine-tuned    82.99  0.771139  0.770207  sarcasm detection"
      ]
     },
     "execution_count": 15,
     "metadata": {},
     "output_type": "execute_result"
    }
   ],
   "source": [
    "data = pd.concat([data,\n",
    "                  pd.DataFrame({\n",
    "                      'Model': ['Random Forest', 'Random Forest fine-tuned'],\n",
    "                      'Runtime': [runtime_rfc_simple, runtime_rfc_tuned],\n",
    "                      'Accuracy': [performance_rfc_simple['accuracy'], performance_rfc_tuned['accuracy']],\n",
    "                      'F1': [performance_rfc_simple['weighted avg']['f1-score'], performance_rfc_tuned['weighted avg']['f1-score']],\n",
    "                      'data': ['sarcasm detection', 'sarcasm detection']\n",
    "                  })], ignore_index=True)\n",
    "data"
   ]
  },
  {
   "cell_type": "code",
   "execution_count": 16,
   "metadata": {},
   "outputs": [],
   "source": [
    "data.to_csv(\"../data/evaluation_data_2.csv\", index=False)"
   ]
  },
  {
   "cell_type": "code",
   "execution_count": 17,
   "metadata": {},
   "outputs": [
    {
     "name": "stdout",
     "output_type": "stream",
     "text": [
      "<class 'pandas.core.frame.DataFrame'>\n",
      "RangeIndex: 8 entries, 0 to 7\n",
      "Data columns (total 5 columns):\n",
      " #   Column    Non-Null Count  Dtype  \n",
      "---  ------    --------------  -----  \n",
      " 0   Model     8 non-null      object \n",
      " 1   Runtime   8 non-null      float64\n",
      " 2   Accuracy  8 non-null      float64\n",
      " 3   F1        8 non-null      float64\n",
      " 4   data      8 non-null      object \n",
      "dtypes: float64(3), object(2)\n",
      "memory usage: 452.0+ bytes\n"
     ]
    }
   ],
   "source": [
    "data.info()"
   ]
  },
  {
   "cell_type": "code",
   "execution_count": null,
   "metadata": {},
   "outputs": [],
   "source": []
  }
 ],
 "metadata": {
  "kernelspec": {
   "display_name": "base",
   "language": "python",
   "name": "python3"
  },
  "language_info": {
   "codemirror_mode": {
    "name": "ipython",
    "version": 3
   },
   "file_extension": ".py",
   "mimetype": "text/x-python",
   "name": "python",
   "nbconvert_exporter": "python",
   "pygments_lexer": "ipython3",
   "version": "3.11.7"
  }
 },
 "nbformat": 4,
 "nbformat_minor": 2
}

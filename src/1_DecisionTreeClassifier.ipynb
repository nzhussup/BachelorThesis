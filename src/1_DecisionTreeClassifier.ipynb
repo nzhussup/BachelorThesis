{
 "cells": [
  {
   "cell_type": "code",
   "execution_count": 24,
   "metadata": {},
   "outputs": [],
   "source": [
    "import pandas as pd\n",
    "import numpy as np\n",
    "from scipy.stats import randint\n",
    "from sklearn.tree import DecisionTreeClassifier\n",
    "from sklearn.metrics import classification_report\n",
    "from sklearn.model_selection import train_test_split, RandomizedSearchCV\n",
    "from sklearn.feature_extraction.text import TfidfVectorizer\n",
    "from time_counter import time_counter"
   ]
  },
  {
   "cell_type": "code",
   "execution_count": 25,
   "metadata": {},
   "outputs": [],
   "source": [
    "bbc_data = pd.read_csv(\"../data/clean_bbc_classification.csv\")\n",
    "sarc_data = pd.read_csv(\"../data/clean_sarcasm_classification.csv\")"
   ]
  },
  {
   "cell_type": "code",
   "execution_count": 26,
   "metadata": {},
   "outputs": [],
   "source": [
    "# Fine tuning params\n",
    "\n",
    "num_iterations = 5\n",
    "num_cv = 3"
   ]
  },
  {
   "cell_type": "markdown",
   "metadata": {},
   "source": [
    "### DTC on BBC News Classification\n",
    "#### Simple DTC"
   ]
  },
  {
   "cell_type": "code",
   "execution_count": 27,
   "metadata": {},
   "outputs": [],
   "source": [
    "# Preprocessing\n",
    "\n",
    "X = bbc_data['text']\n",
    "y = bbc_data['label_ids']\n",
    "\n",
    "X_train, X_test, y_train, y_test = train_test_split(X, y, test_size=.2, random_state=123)\n",
    "\n",
    "vectorizer = TfidfVectorizer()\n",
    "X_train = vectorizer.fit_transform(X_train)\n",
    "X_test = vectorizer.transform(X_test)"
   ]
  },
  {
   "cell_type": "code",
   "execution_count": 28,
   "metadata": {},
   "outputs": [
    {
     "data": {
      "text/html": [
       "<div>\n",
       "<style scoped>\n",
       "    .dataframe tbody tr th:only-of-type {\n",
       "        vertical-align: middle;\n",
       "    }\n",
       "\n",
       "    .dataframe tbody tr th {\n",
       "        vertical-align: top;\n",
       "    }\n",
       "\n",
       "    .dataframe thead th {\n",
       "        text-align: right;\n",
       "    }\n",
       "</style>\n",
       "<table border=\"1\" class=\"dataframe\">\n",
       "  <thead>\n",
       "    <tr style=\"text-align: right;\">\n",
       "      <th></th>\n",
       "      <th>labels</th>\n",
       "      <th>label_ids</th>\n",
       "    </tr>\n",
       "  </thead>\n",
       "  <tbody>\n",
       "    <tr>\n",
       "      <th>0</th>\n",
       "      <td>entertainment</td>\n",
       "      <td>0</td>\n",
       "    </tr>\n",
       "    <tr>\n",
       "      <th>386</th>\n",
       "      <td>business</td>\n",
       "      <td>1</td>\n",
       "    </tr>\n",
       "    <tr>\n",
       "      <th>896</th>\n",
       "      <td>sport</td>\n",
       "      <td>2</td>\n",
       "    </tr>\n",
       "    <tr>\n",
       "      <th>1407</th>\n",
       "      <td>politics</td>\n",
       "      <td>3</td>\n",
       "    </tr>\n",
       "    <tr>\n",
       "      <th>1824</th>\n",
       "      <td>tech</td>\n",
       "      <td>4</td>\n",
       "    </tr>\n",
       "  </tbody>\n",
       "</table>\n",
       "</div>"
      ],
      "text/plain": [
       "             labels  label_ids\n",
       "0     entertainment          0\n",
       "386        business          1\n",
       "896           sport          2\n",
       "1407       politics          3\n",
       "1824           tech          4"
      ]
     },
     "execution_count": 28,
     "metadata": {},
     "output_type": "execute_result"
    }
   ],
   "source": [
    "bbc_data[['labels', 'label_ids']].drop_duplicates()"
   ]
  },
  {
   "cell_type": "code",
   "execution_count": 29,
   "metadata": {},
   "outputs": [
    {
     "name": "stdout",
     "output_type": "stream",
     "text": [
      "Simple Decision Tree Classifier\n",
      "              precision    recall  f1-score   support\n",
      "\n",
      "           0       0.80      0.85      0.82        65\n",
      "           1       0.82      0.78      0.80       103\n",
      "           2       0.94      0.92      0.93       114\n",
      "           3       0.82      0.85      0.83        88\n",
      "           4       0.85      0.84      0.85        75\n",
      "\n",
      "    accuracy                           0.85       445\n",
      "   macro avg       0.84      0.85      0.85       445\n",
      "weighted avg       0.85      0.85      0.85       445\n",
      "\n",
      "Runtime: 0.73 seconds\n"
     ]
    }
   ],
   "source": [
    "@time_counter\n",
    "def model():\n",
    "    dtc = DecisionTreeClassifier()\n",
    "    dtc.fit(X_train, y_train)\n",
    "    preds = dtc.predict(X_test)\n",
    "    print(\"Simple Decision Tree Classifier\")\n",
    "    print(classification_report(y_test, preds))\n",
    "    return preds\n",
    "\n",
    "preds, runtime_dtc_simple = model()\n",
    "\n",
    "print(f\"Runtime: {runtime_dtc_simple} seconds\")\n",
    "performance_dtc_simple = classification_report(y_test, preds, output_dict=True)"
   ]
  },
  {
   "cell_type": "markdown",
   "metadata": {},
   "source": [
    "#### Fine-tuned DTC"
   ]
  },
  {
   "cell_type": "code",
   "execution_count": 30,
   "metadata": {},
   "outputs": [
    {
     "name": "stdout",
     "output_type": "stream",
     "text": [
      "Best parameters: {'class_weight': None, 'criterion': 'gini', 'max_depth': 5, 'max_features': None, 'max_leaf_nodes': 100, 'min_impurity_decrease': 0.0, 'min_samples_leaf': 1, 'min_samples_split': 18, 'splitter': 'best'}\n",
      "Best score: 0.6078832166521879\n",
      "Fine-tuned Decision Tree Classifier\n",
      "              precision    recall  f1-score   support\n",
      "\n",
      "           0       0.90      0.40      0.55        65\n",
      "           1       0.39      0.92      0.55       103\n",
      "           2       0.85      0.61      0.71       114\n",
      "           3       0.96      0.52      0.68        88\n",
      "           4       0.86      0.51      0.64        75\n",
      "\n",
      "    accuracy                           0.62       445\n",
      "   macro avg       0.79      0.59      0.63       445\n",
      "weighted avg       0.78      0.62      0.63       445\n",
      "\n",
      "Runtime: 8.08 seconds\n"
     ]
    }
   ],
   "source": [
    "@time_counter\n",
    "def model():\n",
    "    dtc = DecisionTreeClassifier()\n",
    "    param_dist = {\n",
    "        'max_depth': [3, 5, 10, 15, 20],\n",
    "        'min_samples_split': randint(2, 20),\n",
    "        'min_samples_leaf': randint(1, 20),\n",
    "        'criterion': ['gini', 'entropy'],\n",
    "        'max_features': ['sqrt', 'log2', None],\n",
    "        'max_leaf_nodes': [None, 10, 20, 30, 50, 100],\n",
    "        'min_impurity_decrease': [0.0, 0.01, 0.1],\n",
    "        'splitter': ['best', 'random'],\n",
    "        'class_weight': [None, 'balanced']\n",
    "    }\n",
    "\n",
    "    rnd_cv = RandomizedSearchCV(dtc, param_distributions=param_dist, \n",
    "                                n_iter=num_iterations, cv=num_cv, scoring='accuracy', random_state=123, n_jobs=-1)\n",
    "    rnd_cv.fit(X_train, y_train)\n",
    "    print(\"Best parameters:\", rnd_cv.best_params_)\n",
    "    print(\"Best score:\", rnd_cv.best_score_)\n",
    "    dtc = DecisionTreeClassifier(**rnd_cv.best_params_)\n",
    "    dtc.fit(X_train, y_train)\n",
    "    preds = dtc.predict(X_test)\n",
    "    print(\"Fine-tuned Decision Tree Classifier\")\n",
    "    print(classification_report(y_test, preds))\n",
    "    return preds\n",
    "\n",
    "preds, runtime_dtc_tuned = model()\n",
    "print(f\"Runtime: {runtime_dtc_tuned} seconds\")\n",
    "performance_dtc_tuned = classification_report(y_test, preds, output_dict=True)"
   ]
  },
  {
   "cell_type": "code",
   "execution_count": 31,
   "metadata": {},
   "outputs": [
    {
     "name": "stderr",
     "output_type": "stream",
     "text": [
      "/var/folders/8c/_sr2kqv935l1jvwxjljct8680000gn/T/ipykernel_13812/3047106495.py:3: FutureWarning: The behavior of DataFrame concatenation with empty or all-NA entries is deprecated. In a future version, this will no longer exclude empty or all-NA columns when determining the result dtypes. To retain the old behavior, exclude the relevant entries before the concat operation.\n",
      "  data = pd.concat([data,\n"
     ]
    }
   ],
   "source": [
    "data = pd.DataFrame(columns=['Model', 'Runtime', 'Accuracy', 'F1', 'data'])\n",
    "\n",
    "data = pd.concat([data,\n",
    "                  pd.DataFrame({\n",
    "                      'Model': ['Decision Tree', 'Decision Tree fine-tuned'],\n",
    "                      'Runtime': [runtime_dtc_simple, runtime_dtc_tuned],\n",
    "                      'Accuracy': [performance_dtc_simple['accuracy'], performance_dtc_tuned['accuracy']],\n",
    "                      'F1': [performance_dtc_simple['weighted avg']['f1-score'], performance_dtc_tuned['weighted avg']['f1-score']],\n",
    "                      'data': ['bbc news', 'bbc news']\n",
    "                  })], ignore_index=True)"
   ]
  },
  {
   "cell_type": "code",
   "execution_count": 32,
   "metadata": {},
   "outputs": [
    {
     "data": {
      "text/html": [
       "<div>\n",
       "<style scoped>\n",
       "    .dataframe tbody tr th:only-of-type {\n",
       "        vertical-align: middle;\n",
       "    }\n",
       "\n",
       "    .dataframe tbody tr th {\n",
       "        vertical-align: top;\n",
       "    }\n",
       "\n",
       "    .dataframe thead th {\n",
       "        text-align: right;\n",
       "    }\n",
       "</style>\n",
       "<table border=\"1\" class=\"dataframe\">\n",
       "  <thead>\n",
       "    <tr style=\"text-align: right;\">\n",
       "      <th></th>\n",
       "      <th>Model</th>\n",
       "      <th>Runtime</th>\n",
       "      <th>Accuracy</th>\n",
       "      <th>F1</th>\n",
       "      <th>data</th>\n",
       "    </tr>\n",
       "  </thead>\n",
       "  <tbody>\n",
       "    <tr>\n",
       "      <th>0</th>\n",
       "      <td>Decision Tree</td>\n",
       "      <td>0.73</td>\n",
       "      <td>0.849438</td>\n",
       "      <td>0.849514</td>\n",
       "      <td>bbc news</td>\n",
       "    </tr>\n",
       "    <tr>\n",
       "      <th>1</th>\n",
       "      <td>Decision Tree fine-tuned</td>\n",
       "      <td>8.08</td>\n",
       "      <td>0.617978</td>\n",
       "      <td>0.632672</td>\n",
       "      <td>bbc news</td>\n",
       "    </tr>\n",
       "  </tbody>\n",
       "</table>\n",
       "</div>"
      ],
      "text/plain": [
       "                      Model  Runtime  Accuracy        F1      data\n",
       "0             Decision Tree     0.73  0.849438  0.849514  bbc news\n",
       "1  Decision Tree fine-tuned     8.08  0.617978  0.632672  bbc news"
      ]
     },
     "execution_count": 32,
     "metadata": {},
     "output_type": "execute_result"
    }
   ],
   "source": [
    "data"
   ]
  },
  {
   "cell_type": "markdown",
   "metadata": {},
   "source": [
    "### DTC on Sarcasm Detection\n",
    "#### Simple DTC"
   ]
  },
  {
   "cell_type": "code",
   "execution_count": 33,
   "metadata": {},
   "outputs": [],
   "source": [
    "# Preprocessing\n",
    "sarc_data = sarc_data.dropna()\n",
    "X = sarc_data['text']\n",
    "y = sarc_data['is_sarcastic']\n",
    "\n",
    "X_train, X_test, y_train, y_test = train_test_split(X, y, test_size=.2, random_state=123)\n",
    "\n",
    "vectorizer = TfidfVectorizer()\n",
    "X_train = vectorizer.fit_transform(X_train)\n",
    "X_test = vectorizer.transform(X_test)"
   ]
  },
  {
   "cell_type": "code",
   "execution_count": 34,
   "metadata": {},
   "outputs": [
    {
     "name": "stdout",
     "output_type": "stream",
     "text": [
      "Simple Decision Tree Classifier\n",
      "              precision    recall  f1-score   support\n",
      "\n",
      "           0       0.72      0.78      0.75      2978\n",
      "           1       0.74      0.67      0.71      2746\n",
      "\n",
      "    accuracy                           0.73      5724\n",
      "   macro avg       0.73      0.73      0.73      5724\n",
      "weighted avg       0.73      0.73      0.73      5724\n",
      "\n",
      "Runtime: 14.38 seconds\n",
      "Best parameters: {'class_weight': None, 'criterion': 'entropy', 'max_depth': 20, 'max_features': None, 'max_leaf_nodes': 20, 'min_impurity_decrease': 0.0, 'min_samples_leaf': 7, 'min_samples_split': 12, 'splitter': 'best'}\n",
      "Best score: 0.624399539980042\n",
      "Fine-tuned Decision Tree Classifier\n",
      "              precision    recall  f1-score   support\n",
      "\n",
      "           0       0.58      0.93      0.72      2978\n",
      "           1       0.78      0.28      0.41      2746\n",
      "\n",
      "    accuracy                           0.62      5724\n",
      "   macro avg       0.68      0.60      0.56      5724\n",
      "weighted avg       0.68      0.62      0.57      5724\n",
      "\n",
      "Runtime: 8.67 seconds\n"
     ]
    }
   ],
   "source": [
    "@time_counter\n",
    "def model():\n",
    "    dtc = DecisionTreeClassifier()\n",
    "    dtc.fit(X_train, y_train)\n",
    "    preds = dtc.predict(X_test)\n",
    "    print(\"Simple Decision Tree Classifier\")\n",
    "    print(classification_report(y_test, preds))\n",
    "    return preds\n",
    "\n",
    "\n",
    "preds, runtime_dtc_simple = model()\n",
    "print(f\"Runtime: {runtime_dtc_simple} seconds\")\n",
    "performance_dtc_simple = classification_report(y_test, preds, output_dict=True)\n",
    "\n",
    "@time_counter\n",
    "def model():\n",
    "    dtc = DecisionTreeClassifier()\n",
    "    param_dist = {\n",
    "        'max_depth': [3, 5, 10, 15, 20],\n",
    "        'min_samples_split': randint(2, 20),\n",
    "        'min_samples_leaf': randint(1, 20),\n",
    "        'criterion': ['gini', 'entropy'],\n",
    "        'max_features': ['sqrt', 'log2', None],\n",
    "        'max_leaf_nodes': [None, 10, 20, 30, 50, 100],\n",
    "        'min_impurity_decrease': [0.0, 0.01, 0.1],\n",
    "        'splitter': ['best', 'random'],\n",
    "        'class_weight': [None, 'balanced']\n",
    "    }\n",
    "\n",
    "    rnd_cv = RandomizedSearchCV(dtc, param_distributions=param_dist, \n",
    "                                    n_iter=num_iterations, cv=num_cv, scoring='accuracy', random_state=42, n_jobs=-1)\n",
    "    rnd_cv.fit(X_train, y_train)\n",
    "    print(\"Best parameters:\", rnd_cv.best_params_)\n",
    "    print(\"Best score:\", rnd_cv.best_score_)\n",
    "    dtc = DecisionTreeClassifier(**rnd_cv.best_params_)\n",
    "    dtc.fit(X_train, y_train)\n",
    "    preds = dtc.predict(X_test)\n",
    "    print(\"Fine-tuned Decision Tree Classifier\")\n",
    "    print(classification_report(y_test, preds))\n",
    "    return preds\n",
    "\n",
    "preds, runtime_dtc_tuned = model()\n",
    "print(f\"Runtime: {runtime_dtc_tuned} seconds\")\n",
    "performance_dtc_tuned = classification_report(y_test, preds, output_dict=True)\n",
    "\n",
    "data = pd.concat([data,\n",
    "                  pd.DataFrame({\n",
    "                      'Model': ['Decision Tree', 'Decision Tree fine-tuned'],\n",
    "                      'Runtime': [runtime_dtc_simple, runtime_dtc_tuned],\n",
    "                      'Accuracy': [performance_dtc_simple['accuracy'], performance_dtc_tuned['accuracy']],\n",
    "                      'F1': [performance_dtc_simple['weighted avg']['f1-score'], performance_dtc_tuned['weighted avg']['f1-score']],\n",
    "                      'data': ['sarcasm detection', 'sarcasm detection']\n",
    "                  })], ignore_index=True)"
   ]
  },
  {
   "cell_type": "code",
   "execution_count": 35,
   "metadata": {},
   "outputs": [
    {
     "data": {
      "text/html": [
       "<div>\n",
       "<style scoped>\n",
       "    .dataframe tbody tr th:only-of-type {\n",
       "        vertical-align: middle;\n",
       "    }\n",
       "\n",
       "    .dataframe tbody tr th {\n",
       "        vertical-align: top;\n",
       "    }\n",
       "\n",
       "    .dataframe thead th {\n",
       "        text-align: right;\n",
       "    }\n",
       "</style>\n",
       "<table border=\"1\" class=\"dataframe\">\n",
       "  <thead>\n",
       "    <tr style=\"text-align: right;\">\n",
       "      <th></th>\n",
       "      <th>Model</th>\n",
       "      <th>Runtime</th>\n",
       "      <th>Accuracy</th>\n",
       "      <th>F1</th>\n",
       "      <th>data</th>\n",
       "    </tr>\n",
       "  </thead>\n",
       "  <tbody>\n",
       "    <tr>\n",
       "      <th>0</th>\n",
       "      <td>Decision Tree</td>\n",
       "      <td>0.73</td>\n",
       "      <td>0.849438</td>\n",
       "      <td>0.849514</td>\n",
       "      <td>bbc news</td>\n",
       "    </tr>\n",
       "    <tr>\n",
       "      <th>1</th>\n",
       "      <td>Decision Tree fine-tuned</td>\n",
       "      <td>8.08</td>\n",
       "      <td>0.617978</td>\n",
       "      <td>0.632672</td>\n",
       "      <td>bbc news</td>\n",
       "    </tr>\n",
       "    <tr>\n",
       "      <th>2</th>\n",
       "      <td>Decision Tree</td>\n",
       "      <td>14.38</td>\n",
       "      <td>0.730084</td>\n",
       "      <td>0.729078</td>\n",
       "      <td>sarcasm detection</td>\n",
       "    </tr>\n",
       "    <tr>\n",
       "      <th>3</th>\n",
       "      <td>Decision Tree fine-tuned</td>\n",
       "      <td>8.67</td>\n",
       "      <td>0.615828</td>\n",
       "      <td>0.567973</td>\n",
       "      <td>sarcasm detection</td>\n",
       "    </tr>\n",
       "  </tbody>\n",
       "</table>\n",
       "</div>"
      ],
      "text/plain": [
       "                      Model  Runtime  Accuracy        F1               data\n",
       "0             Decision Tree     0.73  0.849438  0.849514           bbc news\n",
       "1  Decision Tree fine-tuned     8.08  0.617978  0.632672           bbc news\n",
       "2             Decision Tree    14.38  0.730084  0.729078  sarcasm detection\n",
       "3  Decision Tree fine-tuned     8.67  0.615828  0.567973  sarcasm detection"
      ]
     },
     "execution_count": 35,
     "metadata": {},
     "output_type": "execute_result"
    }
   ],
   "source": [
    "data"
   ]
  },
  {
   "cell_type": "code",
   "execution_count": 36,
   "metadata": {},
   "outputs": [],
   "source": [
    "data.to_csv(\"../data/evaluation_data.csv\", index=False)"
   ]
  }
 ],
 "metadata": {
  "kernelspec": {
   "display_name": "base",
   "language": "python",
   "name": "python3"
  },
  "language_info": {
   "codemirror_mode": {
    "name": "ipython",
    "version": 3
   },
   "file_extension": ".py",
   "mimetype": "text/x-python",
   "name": "python",
   "nbconvert_exporter": "python",
   "pygments_lexer": "ipython3",
   "version": "3.11.7"
  }
 },
 "nbformat": 4,
 "nbformat_minor": 2
}
